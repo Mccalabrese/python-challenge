{
 "cells": [
  {
   "cell_type": "code",
   "execution_count": 20,
   "id": "b74f1b25-97ef-4566-b0af-521c26fdb708",
   "metadata": {
    "tags": []
   },
   "outputs": [
    {
     "name": "stdout",
     "output_type": "stream",
     "text": [
      "Feb-2012\n",
      "\n",
      "Financial Analysis\n",
      "--------------------------\n",
      "Total Months: 86\n",
      "Total: $38382578\n",
      "Average Change: $-2315.12\n",
      "Greatest Increase in Profits: Feb-2012  ($1926159)\n",
      "Greatest Decrease in Profits: Sep-2013 ($-2196167)\n"
     ]
    }
   ],
   "source": [
    "total_months = 0\n",
    "total_net = 0\n",
    "avg_delt_fullp = 0\n",
    "prev_profit = None\n",
    "profit_changes = []\n",
    "dates = []\n",
    "\n",
    "from pathlib import Path\n",
    "import csv\n",
    "csvpath = Path('./budget_data.csv')\n",
    "\n",
    "\n",
    "with open(csvpath, 'r') as csvfile:\n",
    "    csvreader = csv.reader(csvfile, delimiter=',')\n",
    "    csv_header = next(csvreader)\n",
    "    \n",
    "    for row in csvreader:\n",
    "        total_months += 1\n",
    "        current_profit = int(row[1])\n",
    "        total_net += current_profit\n",
    "       \n",
    "        \n",
    "        if prev_profit is not None:\n",
    "            profit_change = current_profit - prev_profit\n",
    "            profit_changes.append(profit_change)\n",
    "            \n",
    "            date = row[0]\n",
    "            dates.append(date)\n",
    "            \n",
    "        \n",
    "    \n",
    "        prev_profit = current_profit    \n",
    "avg_delt_fullp = round(sum(profit_changes) / len(profit_changes), 2)\n",
    "        \n",
    "        \n",
    "print(dates[profit_changes.index(max(profit_changes))])      \n",
    "print()\n",
    "print('Financial Analysis')          \n",
    "print('--------------------------')           \n",
    "print(f\"Total Months: {total_months}\")\n",
    "print(f\"Total: ${total_net}\")\n",
    "print(f\"Average Change: ${avg_delt_fullp}\")\n",
    "print(f\"Greatest Increase in Profits: {(dates[profit_changes.index(max(profit_changes))])}  (${max(profit_changes)})\")\n",
    "print(f\"Greatest Decrease in Profits: {(dates[profit_changes.index(min(profit_changes))])} (${min(profit_changes)})\")\n",
    "\n",
    "output = Path(\"output.txt\")\n",
    "with open(output, 'w') as txtfile:\n",
    "    txtfile.write('\\n')      \n",
    "    txtfile.write('\\n')\n",
    "    txtfile.write('Financial Analysis\\n')          \n",
    "    txtfile.write('--------------------------\\n')           \n",
    "    txtfile.write(f\"Total Months: {total_months}\\n\")\n",
    "    txtfile.write(f\"Total: ${total_net}\\n\")\n",
    "    txtfile.write(f\"Average Change: ${avg_delt_fullp}\\n\")\n",
    "    txtfile.write(f\"Greatest Increase in Profits: {(dates[profit_changes.index(max(profit_changes))])} (${max(profit_changes)})\\n\")\n",
    "    txtfile.write(f\"Greatest Decrease in Profits: {(dates[profit_changes.index(min(profit_changes))])} (${min(profit_changes)})\\n\")"
   ]
  },
  {
   "cell_type": "code",
   "execution_count": 16,
   "id": "5df7848b-34ea-4768-bc89-98778bbfc5aa",
   "metadata": {},
   "outputs": [
    {
     "data": {
      "text/plain": [
       "1926159"
      ]
     },
     "execution_count": 16,
     "metadata": {},
     "output_type": "execute_result"
    }
   ],
   "source": [
    "max(profit_changes)"
   ]
  },
  {
   "cell_type": "code",
   "execution_count": null,
   "id": "677dce39-2ee3-4ab0-baa7-f97668cf8698",
   "metadata": {},
   "outputs": [],
   "source": []
  },
  {
   "cell_type": "code",
   "execution_count": null,
   "id": "4e1d297f-ba8b-484e-86ea-227c6f7d4b0c",
   "metadata": {},
   "outputs": [],
   "source": []
  }
 ],
 "metadata": {
  "kernelspec": {
   "display_name": "Python 3 (ipykernel)",
   "language": "python",
   "name": "python3"
  },
  "language_info": {
   "codemirror_mode": {
    "name": "ipython",
    "version": 3
   },
   "file_extension": ".py",
   "mimetype": "text/x-python",
   "name": "python",
   "nbconvert_exporter": "python",
   "pygments_lexer": "ipython3",
   "version": "3.10.13"
  }
 },
 "nbformat": 4,
 "nbformat_minor": 5
}
