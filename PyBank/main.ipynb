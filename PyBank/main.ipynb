{
 "cells": [
  {
   "cell_type": "code",
   "execution_count": 5,
   "id": "b74f1b25-97ef-4566-b0af-521c26fdb708",
   "metadata": {
    "tags": []
   },
   "outputs": [
    {
     "name": "stdout",
     "output_type": "stream",
     "text": [
      "\n",
      "\n",
      "Financial Analysis\n",
      "--------------------------\n",
      "Total Months: 86\n",
      "Total: $38382578\n",
      "Average Change: $-2315.12\n",
      "Greatest Increase in Profits: ($1926159)\n",
      "Greatest Decrease in Profits: ($-2196167)\n"
     ]
    }
   ],
   "source": [
    "total_months = 0\n",
    "total_net = 0\n",
    "avg_delt_fullp = 0\n",
    "largest_incr = 0\n",
    "largest_decr = 0\n",
    "prev_profit = None\n",
    "profit_changes = []\n",
    "\n",
    "from pathlib import Path\n",
    "import csv\n",
    "csvpath = Path('./budget_data.csv')\n",
    "\n",
    "\n",
    "with open(csvpath, 'r') as csvfile:\n",
    "    csvreader = csv.reader(csvfile, delimiter=',')\n",
    "    csv_header = next(csvreader)\n",
    "    \n",
    "    for row in csvreader:\n",
    "        total_months += 1\n",
    "        current_profit = int(row[1])\n",
    "        total_net += current_profit\n",
    "        \n",
    "        if prev_profit is not None:\n",
    "            profit_change = current_profit - prev_profit\n",
    "            profit_changes.append(profit_change)\n",
    "            \n",
    "            if profit_change > largest_incr:\n",
    "                largest_incr = profit_change\n",
    "            elif profit_change < largest_decr:\n",
    "                largest_decr = profit_change\n",
    "    \n",
    "        prev_profit = current_profit    \n",
    "avg_delt_fullp = round(sum(profit_changes) / len(profit_changes), 2)\n",
    "        \n",
    "        \n",
    "print()      \n",
    "print()\n",
    "print('Financial Analysis')          \n",
    "print('--------------------------')           \n",
    "print(f\"Total Months: {total_months}\")\n",
    "print(f\"Total: ${total_net}\")\n",
    "print(f\"Average Change: ${avg_delt_fullp}\")\n",
    "print(f\"Greatest Increase in Profits: (${largest_incr})\")\n",
    "print(f\"Greatest Decrease in Profits: (${largest_decr})\")\n",
    "\n",
    "output = Path(\"output.txt\")\n",
    "with open(output, 'w') as txtfile:\n",
    "    txtfile.write('\\n')      \n",
    "    txtfile.write('\\n')\n",
    "    txtfile.write('Financial Analysis\\n')          \n",
    "    txtfile.write('--------------------------\\n')           \n",
    "    txtfile.write(f\"Total Months: {total_months}\\n\")\n",
    "    txtfile.write(f\"Total: ${total_net}\\n\")\n",
    "    txtfile.write(f\"Average Change: ${avg_delt_fullp}\\n\")\n",
    "    txtfile.write(f\"Greatest Increase in Profits: (${largest_incr})\\n\")\n",
    "    txtfile.write(f\"Greatest Decrease in Profits: (${largest_decr})\\n\")"
   ]
  },
  {
   "cell_type": "code",
   "execution_count": null,
   "id": "5df7848b-34ea-4768-bc89-98778bbfc5aa",
   "metadata": {},
   "outputs": [],
   "source": []
  }
 ],
 "metadata": {
  "kernelspec": {
   "display_name": "Python 3 (ipykernel)",
   "language": "python",
   "name": "python3"
  },
  "language_info": {
   "codemirror_mode": {
    "name": "ipython",
    "version": 3
   },
   "file_extension": ".py",
   "mimetype": "text/x-python",
   "name": "python",
   "nbconvert_exporter": "python",
   "pygments_lexer": "ipython3",
   "version": "3.10.13"
  }
 },
 "nbformat": 4,
 "nbformat_minor": 5
}
