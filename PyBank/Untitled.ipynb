{
 "cells": [
  {
   "cell_type": "code",
   "execution_count": 13,
   "id": "6bcfb4fc-985e-4451-9989-82314e4706c7",
   "metadata": {
    "tags": []
   },
   "outputs": [
    {
     "name": "stdout",
     "output_type": "stream",
     "text": [
      "[116771, -662642, -391430, 379920, 212354, 510239, -428211, -821271, 693918, 416278, -974163, 860159, -1115009, 1033048, 95318, -308093, 99052, -521393, 605450, 231727, -65187, -702716, 177975, -1065544, 1926159, -917805, 898730, -334262, -246499, -64055, -1529236, 1497596, 304914, -635801, 398319, -183161, -37864, -253689, 403655, 94168, 306877, -83000, 210462, -2196167, 1465222, -956983, 1838447, -468003, -64602, 206242, -242155, -449079, 315198, 241099, 111540, 365942, -219310, -368665, 409837, 151210, -110244, -341938, -1212159, 683246, -70825, 335594, 417334, -272194, -236462, 657432, -211262, -128237, -1750387, 925441, 932089, -311434, 267252, -1876758, 1733696, 198551, -665765, 693229, -734926, 77242, 532869]\n"
     ]
    }
   ],
   "source": [
    "import csv\n",
    "#Initialize variables\n",
    "total_months = 0\n",
    "total_pl = 0\n",
    "profit_changes = []\n",
    "previous_profit = None\n",
    "current_profit = 0\n",
    "#Analyze the records\n",
    "with open(\"./budget_data.csv\", 'r') as file:\n",
    "#returns the next line after the first line, \"moves pointer\" to second line in a sense\n",
    "    csvreader = csv.reader(file)\n",
    "    header = next(csvreader)\n",
    "    for month, pl in csvreader:\n",
    "    #Calculation of the total number of months in the dataset\n",
    "        total_months += 1\n",
    "    #The net total amount of Profit/Losses over the entire period\n",
    "        #Convert the number in the text file from string to int\n",
    "        current_profit  = int(pl)\n",
    "        total_pl += current_profit\n",
    "    #The average of the changes in Profit/Losses over the entire period\n",
    "        if previous_profit is not None:\n",
    "            profit_differences = current_profit - previous_profit\n",
    "            profit_changes.append(profit_differences)\n",
    "        previous_profit = current_profit\n",
    "print(profit_changes)"
   ]
  },
  {
   "cell_type": "code",
   "execution_count": null,
   "id": "2869f72e-0eec-4453-95c5-77679411e97c",
   "metadata": {},
   "outputs": [],
   "source": []
  },
  {
   "cell_type": "code",
   "execution_count": null,
   "id": "2c1e7127-b595-4062-bbce-1fafbb42bbd5",
   "metadata": {},
   "outputs": [],
   "source": []
  }
 ],
 "metadata": {
  "kernelspec": {
   "display_name": "Python 3 (ipykernel)",
   "language": "python",
   "name": "python3"
  },
  "language_info": {
   "codemirror_mode": {
    "name": "ipython",
    "version": 3
   },
   "file_extension": ".py",
   "mimetype": "text/x-python",
   "name": "python",
   "nbconvert_exporter": "python",
   "pygments_lexer": "ipython3",
   "version": "3.10.13"
  }
 },
 "nbformat": 4,
 "nbformat_minor": 5
}
